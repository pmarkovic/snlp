{
 "cells": [
  {
   "cell_type": "markdown",
   "metadata": {
    "id": "V7cXfz0cao0H"
   },
   "source": [
    "# Assignment 6\n",
    "\n",
    "Name 1: Rricha Jalota <br/>\n",
    "Id 2: 7010592 <br/>\n",
    "Email id 1: rrja00001 <br/>\n",
    "<br/>\n",
    "Name 2: Pavle Markovic<br/>\n",
    "Id 2: 7007913<br/>\n",
    "Email id 2: pama00002<br/>\n",
    "\n",
    "**Instructions:** Read each question carefully. <br/>\n",
    "Make sure you appropriately comment your code wherever required. Your final submission should contain the completed Notebook and the Python file for exercise 3. There is no need to submit the data files. <br/>\n",
    "Upload the zipped folder in Teams. Make sure to click on \"Turn-in\" after your upload your submission, otherwise the assignment will not be considered as submitted. Only one from the group should make the submisssion.\n",
    "\n",
    "---"
   ]
  },
  {
   "cell_type": "markdown",
   "metadata": {
    "id": "Yi9e8HHYbq7T"
   },
   "source": [
    "## Exercise 1: MLE & MAP  (3 points)\n",
    "\n",
    "Here is a nice [article](http://pages.cs.wisc.edu/~jerryzhu/cs838/LM.pdf) that explains the difference between MLE and MAP based estimation for language models. \n",
    "\n",
    "**1.1 (1 point)**\n",
    "\n",
    "* Is a MAP estimator always better than MLE? Why is MAP preferred over MLE (explain in context of language modelling)? (0.5 points)\n",
    "\n",
    "* Some smoothing methods use a MAP estimation of the model parameters. One of these is floor discounting, as described on Slide 44 in Chapter 5. <br/>\n",
    "Write the formula for deriving the MAP estimate and the resultant formula for floor discounting. What underlying distribution does the language model assume? What is assumed as the prior? (0.5 pts)\n",
    "\n",
    "**1.2 (2 points)**\n",
    "\n",
    "Consider the sentences\n",
    "\n",
    "`s1 = They don't know that we know they know!`\n",
    "\n",
    "`s2 = Don't we know that?`\n",
    "\n",
    "* Assume punctuation removal and lowercasing as basic preprocessing steps. Formulate a bigram model (use a circular corpus) on `s1`, note down the conditional probabilities, and use them to determine the probability of `s2`. (0.5 pt)\n",
    "* Now use floor discounting and form similar bigram models with $\\epsilon=1$ and $\\epsilon=0.5$, note down the respective bigram probabilities, and use them to determine the probability of `s2`. (1 pt) \n",
    "* What do you observe? How does the value of $\\epsilon$ influence the MAP prior in both cases? (0.5 pts)"
   ]
  },
  {
   "cell_type": "markdown",
   "metadata": {},
   "source": [
    "#### Answers\n",
    "\n",
    "1.1 \n",
    "* MAP estimator allows one to encode domain information by means of a prior, as it makes use of Bayes rule for parameter estimation. Therefore, it helps in circumventing the data sparseness  problem and can be viewed as a smoothing technique that handles OOV words.  In contrast, MLE uses a frequentist data-driven approach. This means, for an OOV word, it would give a probability of 0. If the training data is large enough and incorporates all possible words that a model will encounter during testing, MLE can be used. But since this is highly unlikely, MAP estimator would be a better choice. In fact, MLE can be seen as a special case of MAP when the prior is uniform.\n",
    "\n",
    "* Assuming the underlying distribution is multinomial with conjugate Dirichlet prior, \n",
    "formula for deriving the MAP estimate:  \n",
    "$$\n",
    "P(w|h) = \\frac{1}{z}(N(w, h) + \\epsilon)\n",
    "$$\n",
    "\n",
    "Formula for floor discounting$$\n",
    "P(w|h) = \\frac{N(w, h) + \\epsilon}{N(h) + \\epsilon \\cdot V}\n",
    "$$\n",
    "where, \n",
    "$N(w, h): $ Frequency of the joint occurence of $h, w$  \n",
    "$N(h): $ Frequency of $h$  \n",
    "Discounting parameter, $\\epsilon: $  $ [0 \\lt \\epsilon \\leq 1]$\n",
    "\n",
    "1.2 \n",
    "* bigrams = ('they', 'dont'), ('dont', 'know'), ('know', 'that'), ('that', 'we'), ('we', 'know'), ('know', 'they'), ('they', 'know'), ('know', 'they')  \n",
    "P(dont| they) = 1 / 2  \n",
    "P(know| dont) = 1   \n",
    "P(that| know) = 1 / 3  \n",
    "P(we| that) = 1  \n",
    "P(know| we) = 1  \n",
    "P(they| know) =  2 / 3  \n",
    "P(know| they) =  1 / 2  \n",
    "P(dont we know that) = $P(we|dont) * P(know|we) * P(that|know) * P(dont|that)$ = $0 * 1 * (1/3)  * 0 = 0$ \n",
    "<br>\n",
    "\n",
    "* \n",
    "$\\epsilon=1$  \n",
    "P(dont| they) = 1 + 1 / 2 + 1(5) = 2 / 7   \n",
    "P(know| dont) = 1 + 1/ 1 + 1(5) = 2 / 6    \n",
    "P(that| know) = 1 + 1 / 3 + 1(5)  = 2 / 8  \n",
    "P(we| that) = 1  = 1 + 1 / 1 + 1(5) = 2 / 6  \n",
    "P(know| we) = 1  = 1 + 1 / 1 + 1(5) = 2 / 6   \n",
    "P(they| know) =  2 / 3  = 2 + 1/ 3 + 1(5) = 3/8  \n",
    "P(know| they) =  1 / 2  = 1+1/2 + 1(5) = 2/7  \n",
    "P(dont we know that) = $P(we|dont) * P(know|we) * P(that|know) * P(dont|that)$ = $ 1/5 * 2/6 * 2/8  * 1/5 = 0.00333333333$ \n",
    "<br>\n",
    "$\\epsilon=0.5$  \n",
    "P(dont| they) = 1 + 0.5 / 2 + 0.5(5) = 1.5 / 4.5     \n",
    "P(know| dont) = 1 + 0.5/ 1 + 0.5(5) = 1.5 / 3.5  \n",
    "P(that| know) = 1 + 0.5 / 3 + 0.5(5)  = 1.5 / 5.5   \n",
    "P(we| that) = 1  = 1 + 0.5 / 1 + 0.5(5) = 1.5 / 3.5    \n",
    "P(know| we) = 1  = 1 + 0.5 / 1 + 0.5(5) = 1.5 / 3.5  \n",
    "P(they| know) =  2 / 3  = 2 + 0.5/ 3 + 0.5(5) = 2.5 / 5.5    \n",
    "P(know| they) =  1 / 2  = 1+0.5/2 + 0.5(5) = 1.5 / 4.5  \n",
    "P(dont we know that) = $P(we|dont) * P(know|we) * P(that|know) * P(dont|that)$ = $ 0.5/2.5 * 1.5/3.5 * 1.5/5.5  * 0.5/2.5 = 0.00467532467$  \n",
    "\n",
    "* Lower value of $\\epsilon$ results in a higher probability of `s2` as it doesn't shift the probability mass from seen to unseen words so much.  "
   ]
  },
  {
   "cell_type": "markdown",
   "metadata": {
    "id": "0jjZwN7YbrMM"
   },
   "source": [
    "## Exercise 2: Good-Turing (3 points)\n",
    "\n",
    "#### 2.1: Estimate of unknown words (0.5 points)\n",
    "\n",
    "Imagine that you're given a split into (1) training data and (2) test data. They come from the same distribution but you're forbidden to make any other splits.\n",
    "\n",
    "- What is the MLE estimate of frequency of unseen words on (2)?\n",
    "- What other, better, strategy could be employed to estimate frequency of unseen words from (1) on (2)?\n",
    "\n",
    "#### 2.2: Data split (0.5 points)\n",
    "\n",
    "- Usually when preparing a new model, we split the dataset to (1) training data, (2) held-out data and (3) test data. Comment briefly on what each part of the dataset is used for and especially on the distinction between (1) and (2).\n",
    "\n",
    "#### 2.3: Good-Turing Formula (1 point)\n",
    "\n",
    "- What is the formula for updated counts for words of frequency $k \\ne 0$?\n",
    "- What is the Good-Turing formula for estimating unseen words, $k=0$?\n",
    "- Given the updated counts $c^*_k$, how does Good-Turing estimate relate to language model smoothing? How do you define the smoothed distribution?\n",
    "- Is there any systematic relationship between the original counts and the new counts? e.g. for large enough $k$, $c^*_k \\ge k$. \n",
    "- Compute and compare the absolute frequencies and Good-Turing estimates for the words `three` and `syringes` in the following text.\n",
    "\n",
    "```\n",
    "thirty - three thousand three hundred and thirty silver syringes which cost three hundred and thirty - two crowns . .\n",
    "```\n",
    "\n",
    "#### 2.4: Frequent buckets (1 point)\n",
    "\n",
    "- In your own words, what is the issue with Good-Turing when estimating the new counts for the very frequent words?\n",
    "- See page 5, paragraph 3 of [Good‐Turing Smoothing Without Tears](http://deanfoster.net/teaching/data_mining/good_turing.pdf) by Gale and Sampson (1995). What solution do they propose?"
   ]
  },
  {
   "cell_type": "markdown",
   "metadata": {},
   "source": [
    "#### Answers\n",
    "2.1  The MLE estimate of frequency of unseen words on (2) would be 0. \n",
    "*  To estimate frequency of unseen words from (1) on (2), smoothing techniques like floor discounting/Good-turing can be applied. \n",
    "\n",
    "2.2 Training data is used for training a model. A model learns its parameters(/behavior) from this data.  \n",
    "Held-out data is used during training to evaluate the performance of the trained model and prevent it from overfitting/underfitting. It indicates how the trained model would perform on unseen data. During training, the performance of the trained model on this dataset is fedback to decide whether the model should be trained further or not.  \n",
    "Test data is the unseen data, which is used during inference. On this dataset, a trained model is evaluated on various metrics like accuracy, perplexity, etc. \n",
    "\n",
    "2.3 \n",
    "* updated counts for words of frequency $k \\ne 0$, $c_k^{*} =  \\frac{(k + 1) N_{k+1}}{N_k}$, where $N_k$ is the frequency of all words that occur with frequency k. \n",
    "* for estimating unseen words, k=0,  $P_{GT} =  \\frac{N_1}{N}$\n",
    "* The updated counts in good-turing lowers the actual count of seeing a word and assigns the discounted probability mass to the unseen words. It reallocates the probability mass of n-grams that occur r + 1\n",
    "times in the training data to the n-grams that occur r times.\n",
    "\n",
    "* For larger ks, $c^*_k = c_k$  \n",
    "\n",
    "* Absolute Frequencies \n",
    " 'thirty': 3,\n",
    " 'three': 3,\n",
    " 'hundred': 2,\n",
    " 'and': 2,\n",
    " 'thousand': 1,\n",
    " 'silver': 1,\n",
    " 'syringes': 1,\n",
    " 'which': 1,\n",
    " 'cost': 1,\n",
    " 'two': 1,\n",
    " 'crowns': 1\n",
    " \n",
    "$N_3$ = 2, $N_2$ = 2, $N_1$ = 7, $N_0$ = 7 / 17  \n",
    "\n",
    "Turing Frequency for:\n",
    "thirty (occurs thrice) = 4 * N_4 / N_3. Since no word occurs in the corpus 4 times, we assume the Turing frequency of \"thirty\" to be the same as its absolute frequency = 3.   \n",
    "\n",
    "Turing Frequency for: \n",
    "syringes (occurs once) = 2 * N_2 / N_1 = (2 * 2)/7 = 4/7 = 0.571\n",
    "\n",
    "While the turing frequency for syringes is only slightly lower than its absolute frequency, the turing frequency for \"thirty\", which occurs is one of the most frequent words in the corpus, is the same as its absolute frequency. \n",
    "\n",
    "\n",
    "2.4\n",
    "* When estimating the new counts for very frequent words, say k=100, there might not be any word occuring with a frequency of k+1 (i.e. 101), making the new count equal to 0. So, applying the good-turing estimator for higher-order is an issue. \n",
    "\n",
    "* They propose a solution that accounts for for the large Nr values, which are zero. They average with each non-zero Nr the zero Nr’s that surround it: order the non-zero Nr by r, and let q, r, and t be successive indices of non-zero values.  They replace Nr by Zr = Nr/0.5 (t−q).  That is, they estimate the expected Nr by the density of Nr for large r. So basically, fit replace the empirical Nr with best-fit power law. "
   ]
  },
  {
   "cell_type": "markdown",
   "metadata": {
    "id": "HztKiKEpbrXt"
   },
   "source": [
    "## Exercise 3: Cross-Validation (4 points)\n",
    "\n",
    "<!-- ### 3.0 Bible studies -->\n",
    "\n",
    "Imagine you are a linguist in the remote future who just rediscovered a book called \"Bible\". To your disappointment the book is obviously incomplete; all the pages between Genesis and the Apocalypse are torn out, maybe by some late Christian cult. Since you don't know the language of the book you want to build a first language model that you can use if you find any of the lost parts. You digitize the book with your state-of-the art portable digitizer, and then load it into one of your Python 10.0 notebooks.\n",
    "\n",
    "**3.1 Baseline (0.5 points)**\n",
    "\n",
    "* The two corpora are in the text files `genesis.txt` and `apocalypsis.txt`. Load them into the notebook, preprocess them by removing all non-alphabetical characters, and then concatenate them into a single corpus. Split the corpus into a train and a test set, with the test set comprising the _last_ 20% of the corpus. You may use your code from previous exercises for this. (0.25 points)\n"
   ]
  },
  {
   "cell_type": "code",
   "execution_count": 1,
   "metadata": {
    "id": "rDVzYp5zKSVC"
   },
   "outputs": [],
   "source": [
    "from pathlib import Path\n",
    "from importlib import reload\n",
    "import exercise_3\n",
    "exercise_3 = reload(exercise_3)\n",
    "\n",
    "genesis_text = Path(\"data/genesis.txt\").open('r').read()\n",
    "apocalypsis_text = Path(\"data/apocalypsis.txt\").open('r').read()\n",
    "\n",
    "genesis_preprocessed = exercise_3.preprocess(genesis_text)\n",
    "apocalypsis_preprocessd = exercise_3.preprocess(apocalypsis_text)\n",
    "\n",
    "corpus = genesis_preprocessed + apocalypsis_preprocessd\n",
    "\n",
    "train, test = exercise_3.train_test_split_data(corpus)"
   ]
  },
  {
   "cell_type": "markdown",
   "metadata": {
    "id": "Uk5YNPJ_Ky0s"
   },
   "source": [
    "* Using your language model class from the previous assignment, estimate a trigram language model on the train set and report perplexity on the test. Use $\\alpha=1$. Does this represent an unbiased estimate of the model's capacity? (0.25 points)"
   ]
  },
  {
   "cell_type": "code",
   "execution_count": 2,
   "metadata": {
    "id": "0NsFQMfyPcl1"
   },
   "outputs": [
    {
     "name": "stdout",
     "output_type": "stream",
     "text": [
      "3680.0267449919775\n"
     ]
    }
   ],
   "source": [
    "import lm\n",
    "lm = reload(lm)\n",
    "\n",
    "LM = lm.NGramLM(train, test, N=3, alpha=1) \n",
    "pp = LM.perplexity()\n",
    "\n",
    "print(pp)"
   ]
  },
  {
   "cell_type": "markdown",
   "metadata": {},
   "source": [
    "No, this is not an unbiased estimate of the model's capacity because the training data is biased towards the `genesis.txt` dataset. Since the combined dataset is not shuffled before we split it into train and test, the test set only contains tokens from `apocalypsis.txt`, while training data contains all tokens from `genesis.txt` and 80% tokens from `apocalypsis.txt`."
   ]
  },
  {
   "cell_type": "markdown",
   "metadata": {
    "id": "z9uIbyb7LoYT"
   },
   "source": [
    "**3.2 Average Perplexity (2 points)**\n",
    "\n",
    "* Since you want to get an unbiased estimate of your model's capacity, you decide to apply k-fold cross-validation on your corpus. To do this, implement the function `k_validation_folds` in `exercise_2.py`. Use it to split your corpus into $k=5$ cross-validation folds, and make sure that the folds are of the same size. (1 point)\n",
    "\n",
    "* Now, estimate a trigram language model on each of the CV folds. You may again use your class from the previous assignment, and average over all perplexity scores. Does the average score differ from the one obtained in 3.2, and why? (1 point)"
   ]
  },
  {
   "cell_type": "code",
   "execution_count": 3,
   "metadata": {
    "id": "5d2o5fTiMo13"
   },
   "outputs": [
    {
     "name": "stdout",
     "output_type": "stream",
     "text": [
      "2428.391210143023\n"
     ]
    }
   ],
   "source": [
    "# 10-fold cross-validation\n",
    "cv_folds = exercise_3.k_validation_folds(corpus, k_folds=10)\n",
    "\n",
    "pps = []\n",
    "# estimate k LMs\n",
    "for i in range(len(cv_folds)):\n",
    "    test = cv_folds[i]\n",
    "    train_list = cv_folds[i-1:i] + cv_folds[i+1:] if i != 0 else cv_folds[i+1:]\n",
    "    train = [tok for fold in train_list for tok in fold]\n",
    "    LM = lm.NGramLM(train, test, N=3, alpha=1) \n",
    "    pps.append(LM.perplexity())\n",
    "\n",
    "print(sum(pps)/len(pps))"
   ]
  },
  {
   "cell_type": "markdown",
   "metadata": {},
   "source": [
    "Yes, the average score is now lower than the previous perplexity score. This is because, using k different language models on k different train and test subsets, reduces biasness/overfitting of the model on the training set. "
   ]
  },
  {
   "cell_type": "markdown",
   "metadata": {
    "id": "kRakHZmFNALS"
   },
   "source": [
    "**3.3 Hyperparameter Tuning (1.5 points)**\n",
    "\n",
    "* As you don't know anything about the language the book is written in, you have to find the best hyperparemter $\\alpha$ for your model by a brute-force search (recall how you did this in the last assignment). Since you know from 3.2 that your data is not balanced, you decide to use only the averaged perplexity score (derived from $k=10$ CV folds) for this. Do so by completing the loop in the code cell below. Then, plot the obtained perplexity scores vs. $\\alpha$. You do so by reusing the respective function from Assignment 5. (1 point)\n",
    "\n",
    "(**Hint:** This could take a while.)"
   ]
  },
  {
   "cell_type": "code",
   "execution_count": 4,
   "metadata": {
    "id": "-ada-400O8kO"
   },
   "outputs": [
    {
     "name": "stdout",
     "output_type": "stream",
     "text": [
      "100\n"
     ]
    },
    {
     "data": {
      "image/png": "[encoded data removed]",
      "text/plain": [
       "<Figure size 432x288 with 1 Axes>"
      ]
     },
     "metadata": {},
     "output_type": "display_data"
    }
   ],
   "source": [
    "# hyperparamter tuning, CV\n",
    "alphas = [x*0.01 for x in range(1,101)]\n",
    "\n",
    "avg_pps = []\n",
    "\n",
    "for alpha in alphas:\n",
    "    # estimate LMs!\n",
    "    pps = []\n",
    "    for i in range(len(cv_folds)):\n",
    "        test = cv_folds[i]\n",
    "        train_list = cv_folds[i-1:i] + cv_folds[i+1:] if i != 0 else cv_folds[i+1:]\n",
    "        train = [tok for fold in train_list for tok in fold]\n",
    "        LM = lm.NGramLM(train, test, N=3, alpha=alpha) \n",
    "        pps.append(LM.perplexity())\n",
    "    avg_pps.append(sum(pps)/len(pps))\n",
    "\n",
    "\n",
    "# plot!\n",
    "exercise_3.plot_pp_vs_alpha(avg_pps, alphas)"
   ]
  },
  {
   "cell_type": "markdown",
   "metadata": {
    "id": "IGq72SKNP-tb"
   },
   "source": [
    "* Repeat the tuning process for unigram and bigram language models. Does your estimate of $\\alpha$ differ? Why? (0.5 points)"
   ]
  },
  {
   "cell_type": "code",
   "execution_count": 5,
   "metadata": {
    "id": "4as-q5FJP9wL"
   },
   "outputs": [
    {
     "name": "stdout",
     "output_type": "stream",
     "text": [
      "100\n",
      "100\n",
      "100\n"
     ]
    },
    {
     "data": {
      "image/png": "[encoded data removed]",
      "text/plain": [
       "<Figure size 432x288 with 1 Axes>"
      ]
     },
     "metadata": {},
     "output_type": "display_data"
    }
   ],
   "source": [
    "# hyperparamter tuning, bigram + trigram\n",
    "\n",
    "avg_pps = dict()\n",
    "\n",
    "def get_avg_pps(N, alphas):\n",
    "    avg_pps = []\n",
    "    for alpha in alphas:\n",
    "        # estimate LMs!\n",
    "        pps = []\n",
    "        for i in range(len(cv_folds)):\n",
    "            test = cv_folds[i]\n",
    "            train_list = cv_folds[i-1:i] + cv_folds[i+1:] if i != 0 else cv_folds[i+1:]\n",
    "            train = [tok for fold in train_list for tok in fold]\n",
    "            LM = lm.NGramLM(train, test, N=N, alpha=alpha) \n",
    "            pps.append(LM.perplexity())\n",
    "        avg_pps.append(sum(pps)/len(pps))\n",
    "    return avg_pps\n",
    "\n",
    "avg_pps[\"unigram\"] = get_avg_pps(1, alphas)\n",
    "avg_pps[\"bigram\"] = get_avg_pps(2, alphas)\n",
    "\n",
    "# plot!\n",
    "exercise_3.plot_pp_vs_alpha(avg_pps, alphas)\n"
   ]
  },
  {
   "cell_type": "markdown",
   "metadata": {},
   "source": [
    "Yes, with increase in the value of alpha, unigram perplexity decreases whereas the perplexity increases for bigrams and trigrams with increase in alpha. In the unigram case, increasing alpha means we are assigning higher probability mass to unknown words, which is intuitive because not all word-types would be present in the training vocabulary.   "
   ]
  },
  {
   "cell_type": "code",
   "execution_count": null,
   "metadata": {},
   "outputs": [],
   "source": []
  }
 ],
 "metadata": {
  "colab": {
   "collapsed_sections": [],
   "name": "Assignment6.ipynb",
   "provenance": []
  },
  "kernelspec": {
   "display_name": "Python 3",
   "language": "python",
   "name": "python3"
  },
  "language_info": {
   "codemirror_mode": {
    "name": "ipython",
    "version": 3
   },
   "file_extension": ".py",
   "mimetype": "text/x-python",
   "name": "python",
   "nbconvert_exporter": "python",
   "pygments_lexer": "ipython3",
   "version": "3.6.9"
  }
 },
 "nbformat": 4,
 "nbformat_minor": 1
}
